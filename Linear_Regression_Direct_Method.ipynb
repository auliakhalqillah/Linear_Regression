{
 "cells": [
  {
   "cell_type": "markdown",
   "metadata": {},
   "source": [
    "# Linear Regression - Direct Method"
   ]
  },
  {
   "cell_type": "code",
   "execution_count": 10,
   "metadata": {},
   "outputs": [],
   "source": [
    "import matplotlib.pyplot as plt\n",
    "import matplotlib as mpl\n",
    "import numpy as np\n",
    "import pandas as pd\n",
    "from sklearn.model_selection import train_test_split\n",
    "from sklearn.metrics import r2_score\n",
    "from sklearn.linear_model import LinearRegression"
   ]
  },
  {
   "cell_type": "code",
   "execution_count": 8,
   "metadata": {},
   "outputs": [],
   "source": [
    "class LinearRegressionDirect:\n",
    "    def __init__(self, alpha=0.01,iteration=10000):\n",
    "        self.alpha = alpha\n",
    "        self.iteration = iteration\n",
    "    \n",
    "    def fit(self,X,y):\n",
    "        X = np.asarray(X)\n",
    "        Y = np.asarray(y)\n",
    "        n = len(X)\n",
    "\n",
    "        self.m = ((n * np.sum(X*Y)) - (np.sum(X) * np.sum(Y)))/((n * np.sum(X**2)) - (np.sum(X)**2))\n",
    "        self.b = ((np.sum(Y) * np.sum(X**2)) - (np.sum(X) * np.sum(X*Y)))/((n * np.sum(X**2)) - (np.sum(X)**2))\n",
    "\n",
    "        # return m_coef, b_intercept\n",
    "    \n",
    "    def predict(self, X):\n",
    "        X = np.asarray(X)\n",
    "        predictions = self.m*X + self.b\n",
    "        return predictions\n",
    "    \n",
    "    def r2_score(self,Y_true,Y_predictions):\n",
    "        r2 = (1 - (np.sum((Y_true - Y_predictions)**2)/(np.sum((Y_true - np.mean(Y_true))**2))))"
   ]
  },
  {
   "cell_type": "markdown",
   "metadata": {},
   "source": [
    "## Create Synthetic Data\n",
    "\n",
    "To understand the concept of linear regression, let's try to create a synthetic data that the coefficient and intercept are adjusted to be 0.8 and 0.05 respectively. The synthetic data is generated through the linear equation `y = mx + b` as follows"
   ]
  },
  {
   "cell_type": "code",
   "execution_count": 4,
   "metadata": {},
   "outputs": [
    {
     "data": {
      "text/plain": [
       "Text(0, 0.5, 'Y')"
      ]
     },
     "execution_count": 4,
     "metadata": {},
     "output_type": "execute_result"
    },
    {
     "data": {
      "image/png": "[encoded data removed]",
      "text/plain": [
       "<Figure size 1080x576 with 1 Axes>"
      ]
     },
     "metadata": {
      "needs_background": "light"
     },
     "output_type": "display_data"
    }
   ],
   "source": [
    "# synthetic data\n",
    "m_synth, b_synth = 0.8, 0.5\n",
    "np.random.seed(42)\n",
    "feature = np.random.rand(1,2000)\n",
    "target = (m_synth * feature) + b_synth\n",
    "\n",
    "X = feature[0]\n",
    "y = target[0]\n",
    "\n",
    "eq = 'y = %.2fX + %.2f' % (m_synth, b_synth)\n",
    "\n",
    "fig, ax = plt.subplots(figsize=(15,8))\n",
    "ax.scatter(X,y,s=1)\n",
    "ax.text(0, 1.2, eq)\n",
    "ax.set_title('Synthetic Data for Linear Regression')\n",
    "ax.set_xlabel('X')\n",
    "ax.set_ylabel('Y')"
   ]
  },
  {
   "cell_type": "code",
   "execution_count": 5,
   "metadata": {},
   "outputs": [],
   "source": [
    "X_train, X_test, y_train, y_test = train_test_split(X,y, test_size=0.25, random_state=42)"
   ]
  },
  {
   "cell_type": "code",
   "execution_count": 6,
   "metadata": {},
   "outputs": [
    {
     "data": {
      "text/html": [
       "<div>\n",
       "<style scoped>\n",
       "    .dataframe tbody tr th:only-of-type {\n",
       "        vertical-align: middle;\n",
       "    }\n",
       "\n",
       "    .dataframe tbody tr th {\n",
       "        vertical-align: top;\n",
       "    }\n",
       "\n",
       "    .dataframe thead th {\n",
       "        text-align: right;\n",
       "    }\n",
       "</style>\n",
       "<table border=\"1\" class=\"dataframe\">\n",
       "  <thead>\n",
       "    <tr style=\"text-align: right;\">\n",
       "      <th></th>\n",
       "      <th>X_train_o</th>\n",
       "      <th>y_train_o</th>\n",
       "    </tr>\n",
       "  </thead>\n",
       "  <tbody>\n",
       "    <tr>\n",
       "      <th>0</th>\n",
       "      <td>0.367759</td>\n",
       "      <td>0.794207</td>\n",
       "    </tr>\n",
       "    <tr>\n",
       "      <th>1</th>\n",
       "      <td>0.520308</td>\n",
       "      <td>0.916246</td>\n",
       "    </tr>\n",
       "    <tr>\n",
       "      <th>2</th>\n",
       "      <td>0.018391</td>\n",
       "      <td>0.514713</td>\n",
       "    </tr>\n",
       "    <tr>\n",
       "      <th>3</th>\n",
       "      <td>0.453790</td>\n",
       "      <td>0.863032</td>\n",
       "    </tr>\n",
       "    <tr>\n",
       "      <th>4</th>\n",
       "      <td>0.800357</td>\n",
       "      <td>1.140285</td>\n",
       "    </tr>\n",
       "  </tbody>\n",
       "</table>\n",
       "</div>"
      ],
      "text/plain": [
       "   X_train_o  y_train_o\n",
       "0   0.367759   0.794207\n",
       "1   0.520308   0.916246\n",
       "2   0.018391   0.514713\n",
       "3   0.453790   0.863032\n",
       "4   0.800357   1.140285"
      ]
     },
     "execution_count": 6,
     "metadata": {},
     "output_type": "execute_result"
    }
   ],
   "source": [
    "df_train_data = pd.DataFrame(\n",
    "    {\n",
    "    'X_train_o': X_train.tolist(),\n",
    "    'y_train_o': y_train.tolist()\n",
    "    }\n",
    ")\n",
    "\n",
    "df_train_data.head()"
   ]
  },
  {
   "cell_type": "code",
   "execution_count": 7,
   "metadata": {},
   "outputs": [
    {
     "data": {
      "text/html": [
       "<div>\n",
       "<style scoped>\n",
       "    .dataframe tbody tr th:only-of-type {\n",
       "        vertical-align: middle;\n",
       "    }\n",
       "\n",
       "    .dataframe tbody tr th {\n",
       "        vertical-align: top;\n",
       "    }\n",
       "\n",
       "    .dataframe thead th {\n",
       "        text-align: right;\n",
       "    }\n",
       "</style>\n",
       "<table border=\"1\" class=\"dataframe\">\n",
       "  <thead>\n",
       "    <tr style=\"text-align: right;\">\n",
       "      <th></th>\n",
       "      <th>X_test_o</th>\n",
       "      <th>y_test_o</th>\n",
       "    </tr>\n",
       "  </thead>\n",
       "  <tbody>\n",
       "    <tr>\n",
       "      <th>0</th>\n",
       "      <td>0.776447</td>\n",
       "      <td>1.121158</td>\n",
       "    </tr>\n",
       "    <tr>\n",
       "      <th>1</th>\n",
       "      <td>0.162934</td>\n",
       "      <td>0.630348</td>\n",
       "    </tr>\n",
       "    <tr>\n",
       "      <th>2</th>\n",
       "      <td>0.996334</td>\n",
       "      <td>1.297067</td>\n",
       "    </tr>\n",
       "    <tr>\n",
       "      <th>3</th>\n",
       "      <td>0.892672</td>\n",
       "      <td>1.214137</td>\n",
       "    </tr>\n",
       "    <tr>\n",
       "      <th>4</th>\n",
       "      <td>0.078578</td>\n",
       "      <td>0.562863</td>\n",
       "    </tr>\n",
       "  </tbody>\n",
       "</table>\n",
       "</div>"
      ],
      "text/plain": [
       "   X_test_o  y_test_o\n",
       "0  0.776447  1.121158\n",
       "1  0.162934  0.630348\n",
       "2  0.996334  1.297067\n",
       "3  0.892672  1.214137\n",
       "4  0.078578  0.562863"
      ]
     },
     "execution_count": 7,
     "metadata": {},
     "output_type": "execute_result"
    }
   ],
   "source": [
    "df_test_data = pd.DataFrame(\n",
    "    {\n",
    "    'X_test_o': X_test.tolist(),\n",
    "    'y_test_o': y_test.tolist()\n",
    "    }\n",
    ")\n",
    "\n",
    "df_test_data.head()"
   ]
  },
  {
   "cell_type": "markdown",
   "metadata": {},
   "source": [
    "Manual"
   ]
  },
  {
   "cell_type": "code",
   "execution_count": 9,
   "metadata": {},
   "outputs": [],
   "source": [
    "lrDirect = LinearRegressionDirect()\n",
    "lrDirect.fit(np.asarray(df_train_data['X_train_o']).reshape(-1,1), np.asarray(df_train_data['y_train_o']).reshape(-1,1))\n",
    "m_train_direct = lrDirect.m\n",
    "b_train_direct = lrDirect.b"
   ]
  },
  {
   "cell_type": "markdown",
   "metadata": {},
   "source": [
    "Scikit-Learn"
   ]
  },
  {
   "cell_type": "code",
   "execution_count": 11,
   "metadata": {},
   "outputs": [],
   "source": [
    "lrSL = LinearRegression()\n",
    "lrSL.fit(np.asarray(df_train_data['X_train_o']).reshape(-1,1), np.asarray(df_train_data['y_train_o']).reshape(-1,1))\n",
    "m_train_SL = lrSL.coef_[0][0]\n",
    "b_train_SL = lrSL.intercept_[0]"
   ]
  },
  {
   "cell_type": "code",
   "execution_count": 14,
   "metadata": {},
   "outputs": [
    {
     "data": {
      "text/html": [
       "<div>\n",
       "<style scoped>\n",
       "    .dataframe tbody tr th:only-of-type {\n",
       "        vertical-align: middle;\n",
       "    }\n",
       "\n",
       "    .dataframe tbody tr th {\n",
       "        vertical-align: top;\n",
       "    }\n",
       "\n",
       "    .dataframe thead th {\n",
       "        text-align: right;\n",
       "    }\n",
       "</style>\n",
       "<table border=\"1\" class=\"dataframe\">\n",
       "  <thead>\n",
       "    <tr style=\"text-align: right;\">\n",
       "      <th></th>\n",
       "      <th>feature</th>\n",
       "      <th>m_train_direct</th>\n",
       "      <th>b_train_direct</th>\n",
       "      <th>m_train_SL</th>\n",
       "      <th>b_train_SL</th>\n",
       "    </tr>\n",
       "  </thead>\n",
       "  <tbody>\n",
       "    <tr>\n",
       "      <th>0</th>\n",
       "      <td>Feature</td>\n",
       "      <td>0.8</td>\n",
       "      <td>0.5</td>\n",
       "      <td>0.8</td>\n",
       "      <td>0.5</td>\n",
       "    </tr>\n",
       "  </tbody>\n",
       "</table>\n",
       "</div>"
      ],
      "text/plain": [
       "   feature  m_train_direct  b_train_direct  m_train_SL  b_train_SL\n",
       "0  Feature             0.8             0.5         0.8         0.5"
      ]
     },
     "execution_count": 14,
     "metadata": {},
     "output_type": "execute_result"
    }
   ],
   "source": [
    "df_train_coef = pd.DataFrame(\n",
    "    {\n",
    "        'feature':['Feature'],\n",
    "        'm_train_direct': [m_train_direct],\n",
    "        'b_train_direct': [b_train_direct],\n",
    "        'm_train_SL': [m_train_SL],\n",
    "        'b_train_SL': [b_train_SL]\n",
    "    }\n",
    ")\n",
    "\n",
    "df_train_coef.head()"
   ]
  }
 ],
 "metadata": {
  "kernelspec": {
   "display_name": "Python 3.8.7 64-bit",
   "language": "python",
   "name": "python3"
  },
  "language_info": {
   "codemirror_mode": {
    "name": "ipython",
    "version": 3
   },
   "file_extension": ".py",
   "mimetype": "text/x-python",
   "name": "python",
   "nbconvert_exporter": "python",
   "pygments_lexer": "ipython3",
   "version": "3.8.7"
  },
  "orig_nbformat": 4,
  "vscode": {
   "interpreter": {
    "hash": "21d65cdb1cb34505d8869877b7bcfa5855bf3d1f8411ab8e5ca4200bee1f8431"
   }
  }
 },
 "nbformat": 4,
 "nbformat_minor": 2
}
